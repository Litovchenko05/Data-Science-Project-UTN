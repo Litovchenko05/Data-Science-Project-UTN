{
 "cells": [
  {
   "cell_type": "markdown",
   "id": "black-analysis",
   "metadata": {},
   "source": [
    "Para poder visualizar los árboles de decisión que entrenaremos necesitamos instalar una librearía específica"
   ]
  },
  {
   "cell_type": "code",
   "execution_count": 1,
   "id": "occupational-expansion",
   "metadata": {},
   "outputs": [
    {
     "name": "stdout",
     "output_type": "stream",
     "text": [
      "Collecting package metadata (current_repodata.json): ...working... done\n",
      "Solving environment: ...working... done\n",
      "\n",
      "## Package Plan ##\n",
      "\n",
      "  environment location: C:\\Users\\Valeria\\Anaconda3\\envs\\dhdsblend\n",
      "\n",
      "  added / updated specs:\n",
      "    - python-graphviz\n",
      "\n",
      "\n",
      "The following packages will be downloaded:\n",
      "\n",
      "    package                    |            build\n",
      "    ---------------------------|-----------------\n",
      "    certifi-2022.9.24          |   py37haa95532_0         154 KB\n",
      "    ------------------------------------------------------------\n",
      "                                           Total:         154 KB\n",
      "\n",
      "The following packages will be UPDATED:\n",
      "\n",
      "  certifi                          2022.6.15-py37haa95532_0 --> 2022.9.24-py37haa95532_0\n",
      "\n",
      "\n",
      "\n",
      "Downloading and Extracting Packages\n",
      "\n",
      "certifi-2022.9.24    | 154 KB    |            |   0% \n",
      "certifi-2022.9.24    | 154 KB    | #          |  10% \n",
      "certifi-2022.9.24    | 154 KB    | ########## | 100% \n",
      "certifi-2022.9.24    | 154 KB    | ########## | 100% \n",
      "Preparing transaction: ...working... done\n",
      "Verifying transaction: ...working... done\n",
      "Executing transaction: ...working... done\n",
      "\n",
      "Note: you may need to restart the kernel to use updated packages.\n"
     ]
    },
    {
     "name": "stderr",
     "output_type": "stream",
     "text": [
      "\n",
      "\n",
      "==> WARNING: A newer version of conda exists. <==\n",
      "  current version: 4.9.2\n",
      "  latest version: 22.9.0\n",
      "\n",
      "Please update conda by running\n",
      "\n",
      "    $ conda update -n base -c defaults conda\n",
      "\n",
      "\n"
     ]
    }
   ],
   "source": [
    "conda install python-graphviz"
   ]
  },
  {
   "cell_type": "markdown",
   "id": "communist-energy",
   "metadata": {},
   "source": [
    "## Árbol de decisión\n",
    "\n",
    "Los árboles de decisión son modelos de Machine Learning que se pueden utilizar para **Clasificación** o para **Regresión**. En esta Notebook realizaremos un ejemplo de clasificación, y modificaremos hiperpárametros para ajustar los modelos.\n",
    "\n",
    "Realizaremos los pasos de todo Proyecto de Ciencia de Datos\n",
    "\n",
    "1. Definición del Problema\n",
    "2. Búsqueda de datos \n",
    "3. Exploración y Limpieza de Datos\n",
    "4. Dividir los datos en **X** (variables predictoras) e **y** (variable a predecir). Dividir los datos en entrenamiento y testo con el méodo *train_test_split*\n",
    "5. Entrenamiento del modelo\n",
    "6. Testeo del Modelo \n",
    "\n",
    "##### Definición del problema\n",
    "\n",
    "**¿Cuál será la especie de pinguino en base a determinadas características?**\n",
    "\n",
    "##### Búsqueda de datos\n",
    "\n",
    "El dataset que se utilizará es sobre Pinguinos donde se las variables predictoras son distintas características de los pinguinos y la variable a predecir es la *especie (\"species\")*. Fue extraído de [Kaggle](https://www.kaggle.com/datasets/resulcaliskan/penguins)\n",
    "\n",
    "Este dataset es una variación del extraído de https://www.openml.org/d/42585\n"
   ]
  },
  {
   "cell_type": "code",
   "execution_count": 2,
   "id": "elect-administrator",
   "metadata": {},
   "outputs": [],
   "source": [
    "#importamos las librerías que utilizaremos\n",
    "\n",
    "import pandas as pd\n",
    "import matplotlib.pyplot as plt\n",
    "import seaborn as sns"
   ]
  },
  {
   "cell_type": "code",
   "execution_count": 3,
   "id": "experimental-hostel",
   "metadata": {},
   "outputs": [],
   "source": [
    "data = pd.read_csv(\"penguins.csv\")"
   ]
  },
  {
   "cell_type": "markdown",
   "id": "architectural-divorce",
   "metadata": {},
   "source": [
    "##### Exploración y limpieza del dataset"
   ]
  },
  {
   "cell_type": "code",
   "execution_count": 4,
   "id": "respected-turning",
   "metadata": {},
   "outputs": [
    {
     "data": {
      "text/html": [
       "<div>\n",
       "<style scoped>\n",
       "    .dataframe tbody tr th:only-of-type {\n",
       "        vertical-align: middle;\n",
       "    }\n",
       "\n",
       "    .dataframe tbody tr th {\n",
       "        vertical-align: top;\n",
       "    }\n",
       "\n",
       "    .dataframe thead th {\n",
       "        text-align: right;\n",
       "    }\n",
       "</style>\n",
       "<table border=\"1\" class=\"dataframe\">\n",
       "  <thead>\n",
       "    <tr style=\"text-align: right;\">\n",
       "      <th></th>\n",
       "      <th>species</th>\n",
       "      <th>island</th>\n",
       "      <th>bill_length_mm</th>\n",
       "      <th>bill_depth_mm</th>\n",
       "      <th>flipper_length_mm</th>\n",
       "      <th>body_mass_g</th>\n",
       "      <th>sex</th>\n",
       "    </tr>\n",
       "  </thead>\n",
       "  <tbody>\n",
       "    <tr>\n",
       "      <th>0</th>\n",
       "      <td>Adelie</td>\n",
       "      <td>Torgersen</td>\n",
       "      <td>39.1</td>\n",
       "      <td>18.7</td>\n",
       "      <td>181</td>\n",
       "      <td>3750</td>\n",
       "      <td>Male</td>\n",
       "    </tr>\n",
       "    <tr>\n",
       "      <th>1</th>\n",
       "      <td>Adelie</td>\n",
       "      <td>Torgersen</td>\n",
       "      <td>39.5</td>\n",
       "      <td>17.4</td>\n",
       "      <td>186</td>\n",
       "      <td>3800</td>\n",
       "      <td>Female</td>\n",
       "    </tr>\n",
       "    <tr>\n",
       "      <th>2</th>\n",
       "      <td>Adelie</td>\n",
       "      <td>Torgersen</td>\n",
       "      <td>40.3</td>\n",
       "      <td>18.0</td>\n",
       "      <td>195</td>\n",
       "      <td>3250</td>\n",
       "      <td>Female</td>\n",
       "    </tr>\n",
       "  </tbody>\n",
       "</table>\n",
       "</div>"
      ],
      "text/plain": [
       "  species     island  bill_length_mm  bill_depth_mm  flipper_length_mm  \\\n",
       "0  Adelie  Torgersen            39.1           18.7                181   \n",
       "1  Adelie  Torgersen            39.5           17.4                186   \n",
       "2  Adelie  Torgersen            40.3           18.0                195   \n",
       "\n",
       "   body_mass_g     sex  \n",
       "0         3750    Male  \n",
       "1         3800  Female  \n",
       "2         3250  Female  "
      ]
     },
     "execution_count": 4,
     "metadata": {},
     "output_type": "execute_result"
    }
   ],
   "source": [
    "data.head(3)"
   ]
  },
  {
   "cell_type": "code",
   "execution_count": 5,
   "id": "economic-shakespeare",
   "metadata": {},
   "outputs": [
    {
     "name": "stdout",
     "output_type": "stream",
     "text": [
      "<class 'pandas.core.frame.DataFrame'>\n",
      "RangeIndex: 333 entries, 0 to 332\n",
      "Data columns (total 7 columns):\n",
      " #   Column             Non-Null Count  Dtype  \n",
      "---  ------             --------------  -----  \n",
      " 0   species            333 non-null    object \n",
      " 1   island             333 non-null    object \n",
      " 2   bill_length_mm     333 non-null    float64\n",
      " 3   bill_depth_mm      333 non-null    float64\n",
      " 4   flipper_length_mm  333 non-null    int64  \n",
      " 5   body_mass_g        333 non-null    int64  \n",
      " 6   sex                333 non-null    object \n",
      "dtypes: float64(2), int64(2), object(3)\n",
      "memory usage: 18.3+ KB\n"
     ]
    }
   ],
   "source": [
    "data.info()\n",
    "\n",
    "# Vemos no hay datos nulos y hay 2 variables categóricas"
   ]
  },
  {
   "cell_type": "code",
   "execution_count": 6,
   "id": "critical-pendant",
   "metadata": {},
   "outputs": [],
   "source": [
    "# Convertimos en dummies las variables categóricas (no la variable a predecir)\n",
    "# Comenzamos con la variable sexo\n",
    "\n",
    "dummies_sex = pd.get_dummies(data=data[\"sex\"], drop_first=True, prefix = \"sex_\")\n",
    "data = data.join(dummies_sex)"
   ]
  },
  {
   "cell_type": "code",
   "execution_count": 9,
   "id": "certain-choir",
   "metadata": {},
   "outputs": [
    {
     "data": {
      "text/html": [
       "<div>\n",
       "<style scoped>\n",
       "    .dataframe tbody tr th:only-of-type {\n",
       "        vertical-align: middle;\n",
       "    }\n",
       "\n",
       "    .dataframe tbody tr th {\n",
       "        vertical-align: top;\n",
       "    }\n",
       "\n",
       "    .dataframe thead th {\n",
       "        text-align: right;\n",
       "    }\n",
       "</style>\n",
       "<table border=\"1\" class=\"dataframe\">\n",
       "  <thead>\n",
       "    <tr style=\"text-align: right;\">\n",
       "      <th></th>\n",
       "      <th>species</th>\n",
       "      <th>island</th>\n",
       "      <th>bill_length_mm</th>\n",
       "      <th>bill_depth_mm</th>\n",
       "      <th>flipper_length_mm</th>\n",
       "      <th>body_mass_g</th>\n",
       "      <th>sex</th>\n",
       "      <th>sex__Male</th>\n",
       "      <th>island__Dream</th>\n",
       "      <th>island__Torgersen</th>\n",
       "    </tr>\n",
       "  </thead>\n",
       "  <tbody>\n",
       "    <tr>\n",
       "      <th>0</th>\n",
       "      <td>Adelie</td>\n",
       "      <td>Torgersen</td>\n",
       "      <td>39.1</td>\n",
       "      <td>18.7</td>\n",
       "      <td>181</td>\n",
       "      <td>3750</td>\n",
       "      <td>Male</td>\n",
       "      <td>1</td>\n",
       "      <td>0</td>\n",
       "      <td>1</td>\n",
       "    </tr>\n",
       "    <tr>\n",
       "      <th>1</th>\n",
       "      <td>Adelie</td>\n",
       "      <td>Torgersen</td>\n",
       "      <td>39.5</td>\n",
       "      <td>17.4</td>\n",
       "      <td>186</td>\n",
       "      <td>3800</td>\n",
       "      <td>Female</td>\n",
       "      <td>0</td>\n",
       "      <td>0</td>\n",
       "      <td>1</td>\n",
       "    </tr>\n",
       "    <tr>\n",
       "      <th>2</th>\n",
       "      <td>Adelie</td>\n",
       "      <td>Torgersen</td>\n",
       "      <td>40.3</td>\n",
       "      <td>18.0</td>\n",
       "      <td>195</td>\n",
       "      <td>3250</td>\n",
       "      <td>Female</td>\n",
       "      <td>0</td>\n",
       "      <td>0</td>\n",
       "      <td>1</td>\n",
       "    </tr>\n",
       "    <tr>\n",
       "      <th>3</th>\n",
       "      <td>Adelie</td>\n",
       "      <td>Torgersen</td>\n",
       "      <td>36.7</td>\n",
       "      <td>19.3</td>\n",
       "      <td>193</td>\n",
       "      <td>3450</td>\n",
       "      <td>Female</td>\n",
       "      <td>0</td>\n",
       "      <td>0</td>\n",
       "      <td>1</td>\n",
       "    </tr>\n",
       "    <tr>\n",
       "      <th>4</th>\n",
       "      <td>Adelie</td>\n",
       "      <td>Torgersen</td>\n",
       "      <td>39.3</td>\n",
       "      <td>20.6</td>\n",
       "      <td>190</td>\n",
       "      <td>3650</td>\n",
       "      <td>Male</td>\n",
       "      <td>1</td>\n",
       "      <td>0</td>\n",
       "      <td>1</td>\n",
       "    </tr>\n",
       "    <tr>\n",
       "      <th>...</th>\n",
       "      <td>...</td>\n",
       "      <td>...</td>\n",
       "      <td>...</td>\n",
       "      <td>...</td>\n",
       "      <td>...</td>\n",
       "      <td>...</td>\n",
       "      <td>...</td>\n",
       "      <td>...</td>\n",
       "      <td>...</td>\n",
       "      <td>...</td>\n",
       "    </tr>\n",
       "    <tr>\n",
       "      <th>328</th>\n",
       "      <td>Chinstrap</td>\n",
       "      <td>Dream</td>\n",
       "      <td>55.8</td>\n",
       "      <td>19.8</td>\n",
       "      <td>207</td>\n",
       "      <td>4000</td>\n",
       "      <td>Male</td>\n",
       "      <td>1</td>\n",
       "      <td>1</td>\n",
       "      <td>0</td>\n",
       "    </tr>\n",
       "    <tr>\n",
       "      <th>329</th>\n",
       "      <td>Chinstrap</td>\n",
       "      <td>Dream</td>\n",
       "      <td>43.5</td>\n",
       "      <td>18.1</td>\n",
       "      <td>202</td>\n",
       "      <td>3400</td>\n",
       "      <td>Female</td>\n",
       "      <td>0</td>\n",
       "      <td>1</td>\n",
       "      <td>0</td>\n",
       "    </tr>\n",
       "    <tr>\n",
       "      <th>330</th>\n",
       "      <td>Chinstrap</td>\n",
       "      <td>Dream</td>\n",
       "      <td>49.6</td>\n",
       "      <td>18.2</td>\n",
       "      <td>193</td>\n",
       "      <td>3775</td>\n",
       "      <td>Male</td>\n",
       "      <td>1</td>\n",
       "      <td>1</td>\n",
       "      <td>0</td>\n",
       "    </tr>\n",
       "    <tr>\n",
       "      <th>331</th>\n",
       "      <td>Chinstrap</td>\n",
       "      <td>Dream</td>\n",
       "      <td>50.8</td>\n",
       "      <td>19.0</td>\n",
       "      <td>210</td>\n",
       "      <td>4100</td>\n",
       "      <td>Male</td>\n",
       "      <td>1</td>\n",
       "      <td>1</td>\n",
       "      <td>0</td>\n",
       "    </tr>\n",
       "    <tr>\n",
       "      <th>332</th>\n",
       "      <td>Chinstrap</td>\n",
       "      <td>Dream</td>\n",
       "      <td>50.2</td>\n",
       "      <td>18.7</td>\n",
       "      <td>198</td>\n",
       "      <td>3775</td>\n",
       "      <td>Female</td>\n",
       "      <td>0</td>\n",
       "      <td>1</td>\n",
       "      <td>0</td>\n",
       "    </tr>\n",
       "  </tbody>\n",
       "</table>\n",
       "<p>333 rows × 10 columns</p>\n",
       "</div>"
      ],
      "text/plain": [
       "       species     island  bill_length_mm  bill_depth_mm  flipper_length_mm  \\\n",
       "0       Adelie  Torgersen            39.1           18.7                181   \n",
       "1       Adelie  Torgersen            39.5           17.4                186   \n",
       "2       Adelie  Torgersen            40.3           18.0                195   \n",
       "3       Adelie  Torgersen            36.7           19.3                193   \n",
       "4       Adelie  Torgersen            39.3           20.6                190   \n",
       "..         ...        ...             ...            ...                ...   \n",
       "328  Chinstrap      Dream            55.8           19.8                207   \n",
       "329  Chinstrap      Dream            43.5           18.1                202   \n",
       "330  Chinstrap      Dream            49.6           18.2                193   \n",
       "331  Chinstrap      Dream            50.8           19.0                210   \n",
       "332  Chinstrap      Dream            50.2           18.7                198   \n",
       "\n",
       "     body_mass_g     sex  sex__Male  island__Dream  island__Torgersen  \n",
       "0           3750    Male          1              0                  1  \n",
       "1           3800  Female          0              0                  1  \n",
       "2           3250  Female          0              0                  1  \n",
       "3           3450  Female          0              0                  1  \n",
       "4           3650    Male          1              0                  1  \n",
       "..           ...     ...        ...            ...                ...  \n",
       "328         4000    Male          1              1                  0  \n",
       "329         3400  Female          0              1                  0  \n",
       "330         3775    Male          1              1                  0  \n",
       "331         4100    Male          1              1                  0  \n",
       "332         3775  Female          0              1                  0  \n",
       "\n",
       "[333 rows x 10 columns]"
      ]
     },
     "execution_count": 9,
     "metadata": {},
     "output_type": "execute_result"
    }
   ],
   "source": [
    "data"
   ]
  },
  {
   "cell_type": "code",
   "execution_count": 8,
   "id": "exterior-stanley",
   "metadata": {},
   "outputs": [],
   "source": [
    "# Convertimos la variable island\n",
    "\n",
    "dummies_island = pd.get_dummies(data=data[\"island\"], drop_first=True, prefix = \"island_\")\n",
    "data = data.join(dummies_island)"
   ]
  },
  {
   "cell_type": "code",
   "execution_count": 10,
   "id": "sonic-prague",
   "metadata": {},
   "outputs": [
    {
     "data": {
      "text/html": [
       "<div>\n",
       "<style scoped>\n",
       "    .dataframe tbody tr th:only-of-type {\n",
       "        vertical-align: middle;\n",
       "    }\n",
       "\n",
       "    .dataframe tbody tr th {\n",
       "        vertical-align: top;\n",
       "    }\n",
       "\n",
       "    .dataframe thead th {\n",
       "        text-align: right;\n",
       "    }\n",
       "</style>\n",
       "<table border=\"1\" class=\"dataframe\">\n",
       "  <thead>\n",
       "    <tr style=\"text-align: right;\">\n",
       "      <th></th>\n",
       "      <th>species</th>\n",
       "      <th>bill_length_mm</th>\n",
       "      <th>bill_depth_mm</th>\n",
       "      <th>flipper_length_mm</th>\n",
       "      <th>body_mass_g</th>\n",
       "      <th>sex__Male</th>\n",
       "      <th>island__Dream</th>\n",
       "      <th>island__Torgersen</th>\n",
       "    </tr>\n",
       "  </thead>\n",
       "  <tbody>\n",
       "    <tr>\n",
       "      <th>0</th>\n",
       "      <td>Adelie</td>\n",
       "      <td>39.1</td>\n",
       "      <td>18.7</td>\n",
       "      <td>181</td>\n",
       "      <td>3750</td>\n",
       "      <td>1</td>\n",
       "      <td>0</td>\n",
       "      <td>1</td>\n",
       "    </tr>\n",
       "    <tr>\n",
       "      <th>1</th>\n",
       "      <td>Adelie</td>\n",
       "      <td>39.5</td>\n",
       "      <td>17.4</td>\n",
       "      <td>186</td>\n",
       "      <td>3800</td>\n",
       "      <td>0</td>\n",
       "      <td>0</td>\n",
       "      <td>1</td>\n",
       "    </tr>\n",
       "    <tr>\n",
       "      <th>2</th>\n",
       "      <td>Adelie</td>\n",
       "      <td>40.3</td>\n",
       "      <td>18.0</td>\n",
       "      <td>195</td>\n",
       "      <td>3250</td>\n",
       "      <td>0</td>\n",
       "      <td>0</td>\n",
       "      <td>1</td>\n",
       "    </tr>\n",
       "  </tbody>\n",
       "</table>\n",
       "</div>"
      ],
      "text/plain": [
       "  species  bill_length_mm  bill_depth_mm  flipper_length_mm  body_mass_g  \\\n",
       "0  Adelie            39.1           18.7                181         3750   \n",
       "1  Adelie            39.5           17.4                186         3800   \n",
       "2  Adelie            40.3           18.0                195         3250   \n",
       "\n",
       "   sex__Male  island__Dream  island__Torgersen  \n",
       "0          1              0                  1  \n",
       "1          0              0                  1  \n",
       "2          0              0                  1  "
      ]
     },
     "execution_count": 10,
     "metadata": {},
     "output_type": "execute_result"
    }
   ],
   "source": [
    "# Eliminamos las variables que reemplazamos por las dummies\n",
    "\n",
    "data.drop(columns= [\"sex\", \"island\"], inplace=True)\n",
    "data.head(3)"
   ]
  },
  {
   "cell_type": "code",
   "execution_count": 11,
   "id": "eligible-shade",
   "metadata": {},
   "outputs": [
    {
     "data": {
      "text/plain": [
       "Adelie       146\n",
       "Gentoo       119\n",
       "Chinstrap     68\n",
       "Name: species, dtype: int64"
      ]
     },
     "execution_count": 11,
     "metadata": {},
     "output_type": "execute_result"
    }
   ],
   "source": [
    "# Vemos la distribución de la variable target\n",
    "\n",
    "data[\"species\"].value_counts()"
   ]
  },
  {
   "cell_type": "code",
   "execution_count": 12,
   "id": "simple-bunny",
   "metadata": {},
   "outputs": [
    {
     "data": {
      "text/plain": [
       "<AxesSubplot:xlabel='species', ylabel='count'>"
      ]
     },
     "execution_count": 12,
     "metadata": {},
     "output_type": "execute_result"
    },
    {
     "data": {
      "image/png": "[encoded data removed]",
      "text/plain": [
       "<Figure size 432x288 with 1 Axes>"
      ]
     },
     "metadata": {
      "needs_background": "light"
     },
     "output_type": "display_data"
    }
   ],
   "source": [
    "sns.countplot(data[\"species\"])"
   ]
  },
  {
   "cell_type": "markdown",
   "id": "polyphonic-toddler",
   "metadata": {},
   "source": [
    "#### Entrenamiento del modelo\n",
    "\n",
    "Vamos a entrenar un modelo de Árbol de decisión para predecir la especie de Pinguino. En primer lugar dividermos los datos en **X** e **y** y en entrenamiento y testo.\n",
    "\n",
    "Instanciaremos el modelo de Árbol de decisión con los hiperparámentros por default."
   ]
  },
  {
   "cell_type": "code",
   "execution_count": 14,
   "id": "central-sleeve",
   "metadata": {
    "id": "preliminary-comparative"
   },
   "outputs": [],
   "source": [
    "# Generamos X e y \n",
    "\n",
    "X = data.drop(columns = \"species\")   #variables predictora\n",
    "y = data[\"species\"]   #variable a predecir"
   ]
  },
  {
   "cell_type": "code",
   "execution_count": 15,
   "id": "fundamental-preference",
   "metadata": {
    "id": "finished-scale"
   },
   "outputs": [],
   "source": [
    "# Dividimos datos en train y test\n",
    "from sklearn.model_selection import train_test_split\n",
    "\n",
    "X_train, X_test, y_train, y_test = train_test_split(X, y, random_state=138)  #por default 25% de test\n"
   ]
  },
  {
   "cell_type": "code",
   "execution_count": 16,
   "id": "computational-lender",
   "metadata": {},
   "outputs": [],
   "source": [
    "# Importamos el modelo que utilizaremos\n",
    "\n",
    "from sklearn.tree import DecisionTreeClassifier\n"
   ]
  },
  {
   "cell_type": "code",
   "execution_count": 17,
   "id": "rising-stephen",
   "metadata": {
    "id": "japanese-gossip"
   },
   "outputs": [],
   "source": [
    "#Instanciamos el modelo que utilizaremosn en este caso con los hiperparámetros por default\n",
    "\n",
    "arbol = DecisionTreeClassifier()"
   ]
  },
  {
   "cell_type": "code",
   "execution_count": 18,
   "id": "underlying-password",
   "metadata": {
    "colab": {
     "base_uri": "https://localhost:8080/"
    },
    "id": "satisfactory-capability",
    "outputId": "220644a0-f766-4f2b-bd02-959df46ebb9d"
   },
   "outputs": [
    {
     "data": {
      "text/plain": [
       "DecisionTreeClassifier()"
      ]
     },
     "execution_count": 18,
     "metadata": {},
     "output_type": "execute_result"
    }
   ],
   "source": [
    "# Entrenamos el modelo \n",
    "\n",
    "arbol.fit(X_train, y_train)"
   ]
  },
  {
   "cell_type": "markdown",
   "id": "orange-yorkshire",
   "metadata": {},
   "source": [
    "##### Visualización del Árbol generado por el modelo"
   ]
  },
  {
   "cell_type": "code",
   "execution_count": 19,
   "id": "floral-irish",
   "metadata": {},
   "outputs": [
    {
     "data": {
      "text/plain": [
       "[Text(546.375, 747.4499999999999, 'bill_depth_mm <= 207.0\\ngini = 0.644\\nsamples = 249\\nvalue = [106, 54, 89]'),\n",
       " Text(395.25, 611.55, 'species <= 44.65\\ngini = 0.447\\nsamples = 157\\nvalue = [105, 51, 1]'),\n",
       " Text(232.5, 475.65, 'species <= 42.4\\ngini = 0.071\\nsamples = 108\\nvalue = [104, 4, 0]'),\n",
       " Text(139.5, 339.74999999999994, 'bill_length_mm <= 16.65\\ngini = 0.02\\nsamples = 99\\nvalue = [98, 1, 0]'),\n",
       " Text(93.0, 203.8499999999999, 'species <= 39.5\\ngini = 0.18\\nsamples = 10\\nvalue = [9, 1, 0]'),\n",
       " Text(46.5, 67.94999999999993, 'gini = 0.0\\nsamples = 9\\nvalue = [9, 0, 0]'),\n",
       " Text(139.5, 67.94999999999993, 'gini = 0.0\\nsamples = 1\\nvalue = [0, 1, 0]'),\n",
       " Text(186.0, 203.8499999999999, 'gini = 0.0\\nsamples = 89\\nvalue = [89, 0, 0]'),\n",
       " Text(325.5, 339.74999999999994, 'flipper_length_mm <= 3712.5\\ngini = 0.444\\nsamples = 9\\nvalue = [6, 3, 0]'),\n",
       " Text(279.0, 203.8499999999999, 'gini = 0.0\\nsamples = 3\\nvalue = [0, 3, 0]'),\n",
       " Text(372.0, 203.8499999999999, 'gini = 0.0\\nsamples = 6\\nvalue = [6, 0, 0]'),\n",
       " Text(558.0, 475.65, 'sex__Male <= 0.5\\ngini = 0.079\\nsamples = 49\\nvalue = [1, 47, 1]'),\n",
       " Text(511.5, 339.74999999999994, 'flipper_length_mm <= 4387.5\\ngini = 0.5\\nsamples = 2\\nvalue = [1, 0, 1]'),\n",
       " Text(465.0, 203.8499999999999, 'gini = 0.0\\nsamples = 1\\nvalue = [1, 0, 0]'),\n",
       " Text(558.0, 203.8499999999999, 'gini = 0.0\\nsamples = 1\\nvalue = [0, 0, 1]'),\n",
       " Text(604.5, 339.74999999999994, 'gini = 0.0\\nsamples = 47\\nvalue = [0, 47, 0]'),\n",
       " Text(697.5, 611.55, 'sex__Male <= 0.5\\ngini = 0.084\\nsamples = 92\\nvalue = [1, 3, 88]'),\n",
       " Text(651.0, 475.65, 'gini = 0.0\\nsamples = 88\\nvalue = [0, 0, 88]'),\n",
       " Text(744.0, 475.65, 'bill_depth_mm <= 209.0\\ngini = 0.375\\nsamples = 4\\nvalue = [1, 3, 0]'),\n",
       " Text(697.5, 339.74999999999994, 'gini = 0.0\\nsamples = 1\\nvalue = [1, 0, 0]'),\n",
       " Text(790.5, 339.74999999999994, 'gini = 0.0\\nsamples = 3\\nvalue = [0, 3, 0]')]"
      ]
     },
     "execution_count": 19,
     "metadata": {},
     "output_type": "execute_result"
    },
    {
     "data": {
      "image/png": "[encoded data removed]",
      "text/plain": [
       "<Figure size 1080x1080 with 1 Axes>"
      ]
     },
     "metadata": {
      "needs_background": "light"
     },
     "output_type": "display_data"
    }
   ],
   "source": [
    "from sklearn import tree\n",
    "plt.figure(figsize = (15,15))\n",
    "tree.plot_tree(arbol, feature_names=data.columns[:-1],filled=True,rounded=True)\n"
   ]
  },
  {
   "cell_type": "markdown",
   "id": "framed-specification",
   "metadata": {},
   "source": [
    "##### Evaluación de datos de train\n",
    "\n",
    "En este caso, además de utilizar las métricas para evaluar los datos de testo, también utilizaremos las métricas para evaluar cómo el modelo fue entrenado, es decir, si utilizamos el método *predict* con los *X de entrenamiento* y comparamos con los *y de entrenamiento*. \n",
    "\n",
    "Esto no sirve para saber la performance del modelo ya que fue entrenado con los mismo datos, pero sirve para analizar cómo fue entrenado el modelo y, en el caso de los árboles de decisión, la exactitud con la que los datos se organizan."
   ]
  },
  {
   "cell_type": "code",
   "execution_count": 20,
   "id": "suitable-penguin",
   "metadata": {},
   "outputs": [
    {
     "data": {
      "text/plain": [
       "1.0"
      ]
     },
     "execution_count": 20,
     "metadata": {},
     "output_type": "execute_result"
    }
   ],
   "source": [
    "from sklearn.metrics import accuracy_score\n",
    "\n",
    "y_pred_train = arbol.predict(X_train)\n",
    "exactitud_train_arbol = accuracy_score(y_train, y_pred_train)\n",
    "exactitud_train_arbol"
   ]
  },
  {
   "cell_type": "markdown",
   "id": "sporting-marsh",
   "metadata": {},
   "source": [
    "Podemos observar que el resultado de evaluar los datos de entrenamiento es perfecta"
   ]
  },
  {
   "cell_type": "markdown",
   "id": "foreign-oasis",
   "metadata": {},
   "source": [
    "##### Probamos y evaluamos nuestro modelo\n",
    "\n",
    "Utilizamos el metodo *predict* para probar nuestro modelo con los datos de test. Luego comparamos la predicciones de nuestro modelo con el resultado real a través de una matrix de confusión y utilizando la métrica accuracy (exactitud)"
   ]
  },
  {
   "cell_type": "code",
   "execution_count": 21,
   "id": "mysterious-trigger",
   "metadata": {
    "id": "agreed-library"
   },
   "outputs": [],
   "source": [
    "# Probamos nuestro modelo con los datos de test\n",
    "\n",
    "y_pred_arbol = arbol.predict(X_test)\n"
   ]
  },
  {
   "cell_type": "code",
   "execution_count": 22,
   "id": "extra-injury",
   "metadata": {
    "id": "informal-intersection"
   },
   "outputs": [
    {
     "data": {
      "text/plain": [
       "Text(33.0, 0.5, 'Etiquetas reales')"
      ]
     },
     "execution_count": 22,
     "metadata": {},
     "output_type": "execute_result"
    },
    {
     "data": {
      "image/png": "[encoded data removed]",
      "text/plain": [
       "<Figure size 432x288 with 2 Axes>"
      ]
     },
     "metadata": {
      "needs_background": "light"
     },
     "output_type": "display_data"
    }
   ],
   "source": [
    "# Matriz de confusión:comparando resultado original (y_test) con predicción del modelo (y_pred_arbol_completo)\n",
    "from sklearn.metrics import confusion_matrix\n",
    "\n",
    "matriz_arbol = confusion_matrix(y_test, y_pred_arbol)\n",
    "sns.heatmap(matriz_arbol, annot=True)\n",
    "plt.xlabel(\"Etiquetas predichas\")\n",
    "plt.ylabel(\"Etiquetas reales\")"
   ]
  },
  {
   "cell_type": "code",
   "execution_count": 23,
   "id": "eight-israel",
   "metadata": {
    "id": "rotary-hardware"
   },
   "outputs": [
    {
     "data": {
      "text/plain": [
       "0.9642857142857143"
      ]
     },
     "execution_count": 23,
     "metadata": {},
     "output_type": "execute_result"
    }
   ],
   "source": [
    "# Métrica accuracy\n",
    "\n",
    "exactitud_arbol = accuracy_score(y_test, y_pred_arbol)\n",
    "exactitud_arbol"
   ]
  },
  {
   "cell_type": "code",
   "execution_count": 24,
   "id": "pursuant-uganda",
   "metadata": {},
   "outputs": [
    {
     "name": "stdout",
     "output_type": "stream",
     "text": [
      "La exactitud del modelo árbol de decisión es 0.96\n"
     ]
    }
   ],
   "source": [
    "print(\"La exactitud del modelo árbol de decisión es\", round(exactitud_arbol,2))"
   ]
  },
  {
   "cell_type": "markdown",
   "id": "earlier-wireless",
   "metadata": {},
   "source": [
    "#### Hiperparámetro distintos\n",
    "\n",
    "Al igual que el resto de los modelos vistos, también podemos entrenar modelos con distintos hiperparámetros para ver los resultados de los distintos modelos. Se puede ver en la [documentación](https://scikit-learn.org/stable/modules/generated/sklearn.tree.DecisionTreeClassifier.html?highlight=tree#sklearn.tree.DecisionTreeClassifier).\n",
    "\n",
    "En el caso puntual de los algoritmos de árbol de decisión, estos tienen una tendencia al sobreajuste (overfitting), que lo veremos en profundidad la clase que viene. \n",
    "Para evitar eso es posible ajustar los distintos hiperpárametros para reducir la complejidad de los árboles, se utiliza un mecanismo denominado \"poda\", reduciendo el tamaño del árbol a través de limitar la profundidad máxima, limitar el número de muestraS requeridas por cada hoja o limitando el número mínimo de muestras para particionar. \n",
    "\n",
    "Algunos de los hiperparámetros que se pueden ajustar en el modelo de Scikit-Lear son:.\n",
    "\n",
    "- **max_depth:** profundidad máxima del árbol. Solemos determinar una profundidad máxima para evitar que el modelo sobreajuste.  \n",
    "- **min_samples_split:** número mínimo de muestras que un nodo debe contener para considerar la división. El valor predeterminado es dos. Podemos usar este parámetro para regularizar el árbol.\n",
    "- **min_samples_leaf:** número mínimo de muestras necesarias para ser considerado un nodo hoja. El valor predeterminado se establece en uno. Este parámetro se utiliza como una forma alternativa de limitar el crecimiento del árbol.  \n",
    "- **max_features:** número de características a considerar al buscar la mejor división. Si no se establece este valor, el árbol de decisión considerará todas las variables independientes disponibles para hacer la mejor división.\n",
    "\n",
    "En este caso vamos a entrenar y evaluar dos modelos modificando el hiperparámetro: \"max_depth\" y observando la diferencia a través de las visualizaciones"
   ]
  },
  {
   "cell_type": "code",
   "execution_count": 25,
   "id": "tamil-wedding",
   "metadata": {
    "id": "japanese-gossip"
   },
   "outputs": [],
   "source": [
    "# Instanciamos el modelo que utilizaremos con el hiperparámetro max_depth=4\n",
    "\n",
    "arbol_depth4 = DecisionTreeClassifier(max_depth=4)"
   ]
  },
  {
   "cell_type": "code",
   "execution_count": 26,
   "id": "affected-conspiracy",
   "metadata": {
    "colab": {
     "base_uri": "https://localhost:8080/"
    },
    "id": "satisfactory-capability",
    "outputId": "220644a0-f766-4f2b-bd02-959df46ebb9d"
   },
   "outputs": [
    {
     "data": {
      "text/plain": [
       "DecisionTreeClassifier(max_depth=4)"
      ]
     },
     "execution_count": 26,
     "metadata": {},
     "output_type": "execute_result"
    }
   ],
   "source": [
    "# Entrenamos el modelo \n",
    "\n",
    "arbol_depth4.fit(X_train, y_train)"
   ]
  },
  {
   "cell_type": "code",
   "execution_count": 27,
   "id": "applicable-thanks",
   "metadata": {},
   "outputs": [
    {
     "data": {
      "text/plain": [
       "[Text(352.85294117647055, 489.24, 'bill_depth_mm <= 207.0\\ngini = 0.644\\nsamples = 249\\nvalue = [106, 54, 89]'),\n",
       " Text(246.17647058823528, 380.52000000000004, 'species <= 44.65\\ngini = 0.447\\nsamples = 157\\nvalue = [105, 51, 1]'),\n",
       " Text(131.2941176470588, 271.8, 'species <= 42.4\\ngini = 0.071\\nsamples = 108\\nvalue = [104, 4, 0]'),\n",
       " Text(65.6470588235294, 163.08000000000004, 'bill_length_mm <= 16.65\\ngini = 0.02\\nsamples = 99\\nvalue = [98, 1, 0]'),\n",
       " Text(32.8235294117647, 54.360000000000014, 'gini = 0.18\\nsamples = 10\\nvalue = [9, 1, 0]'),\n",
       " Text(98.47058823529412, 54.360000000000014, 'gini = 0.0\\nsamples = 89\\nvalue = [89, 0, 0]'),\n",
       " Text(196.94117647058823, 163.08000000000004, 'body_mass_g <= 0.5\\ngini = 0.444\\nsamples = 9\\nvalue = [6, 3, 0]'),\n",
       " Text(164.1176470588235, 54.360000000000014, 'gini = 0.0\\nsamples = 3\\nvalue = [0, 3, 0]'),\n",
       " Text(229.76470588235293, 54.360000000000014, 'gini = 0.0\\nsamples = 6\\nvalue = [6, 0, 0]'),\n",
       " Text(361.0588235294117, 271.8, 'sex__Male <= 0.5\\ngini = 0.079\\nsamples = 49\\nvalue = [1, 47, 1]'),\n",
       " Text(328.235294117647, 163.08000000000004, 'body_mass_g <= 0.5\\ngini = 0.5\\nsamples = 2\\nvalue = [1, 0, 1]'),\n",
       " Text(295.4117647058823, 54.360000000000014, 'gini = 0.0\\nsamples = 1\\nvalue = [0, 0, 1]'),\n",
       " Text(361.0588235294117, 54.360000000000014, 'gini = 0.0\\nsamples = 1\\nvalue = [1, 0, 0]'),\n",
       " Text(393.88235294117646, 163.08000000000004, 'gini = 0.0\\nsamples = 47\\nvalue = [0, 47, 0]'),\n",
       " Text(459.52941176470586, 380.52000000000004, 'sex__Male <= 0.5\\ngini = 0.084\\nsamples = 92\\nvalue = [1, 3, 88]'),\n",
       " Text(426.70588235294116, 271.8, 'gini = 0.0\\nsamples = 88\\nvalue = [0, 0, 88]'),\n",
       " Text(492.35294117647055, 271.8, 'bill_depth_mm <= 209.0\\ngini = 0.375\\nsamples = 4\\nvalue = [1, 3, 0]'),\n",
       " Text(459.52941176470586, 163.08000000000004, 'gini = 0.0\\nsamples = 1\\nvalue = [1, 0, 0]'),\n",
       " Text(525.1764705882352, 163.08000000000004, 'gini = 0.0\\nsamples = 3\\nvalue = [0, 3, 0]')]"
      ]
     },
     "execution_count": 27,
     "metadata": {},
     "output_type": "execute_result"
    },
    {
     "data": {
      "image/png": "[encoded data removed]",
      "text/plain": [
       "<Figure size 720x720 with 1 Axes>"
      ]
     },
     "metadata": {
      "needs_background": "light"
     },
     "output_type": "display_data"
    }
   ],
   "source": [
    "# Visualizamos el modelo entrenado\n",
    "\n",
    "plt.figure(figsize = (10,10))\n",
    "tree.plot_tree(arbol_depth4, feature_names=data.columns[:-1],filled=True,rounded=True)"
   ]
  },
  {
   "cell_type": "markdown",
   "id": "historic-louisville",
   "metadata": {},
   "source": [
    "##### Evaluación de datos de train\n",
    "\n",
    "Podemos utilizar una métrica de evaluación para ver la performance del modelo con los datos de entrenamiento"
   ]
  },
  {
   "cell_type": "code",
   "execution_count": 28,
   "id": "liquid-witness",
   "metadata": {},
   "outputs": [
    {
     "data": {
      "text/plain": [
       "0.9959839357429718"
      ]
     },
     "execution_count": 28,
     "metadata": {},
     "output_type": "execute_result"
    }
   ],
   "source": [
    "y_pred_train_depth4 = arbol_depth4.predict(X_train)\n",
    "exactitud_train_depth4 = accuracy_score(y_train, y_pred_train_depth4)\n",
    "exactitud_train_depth4"
   ]
  },
  {
   "cell_type": "markdown",
   "id": "arctic-station",
   "metadata": {},
   "source": [
    "##### Probamos y evaluamos nuestro modelo\n",
    "\n",
    "Utilizamos el metodo predict para probar nuestro modelo con los datos de test. Luego comparamos la predicciones de nuestro modelo con el resultado real a través de una matrix de confusión y utilizando la métrica accuracy (exactitud)"
   ]
  },
  {
   "cell_type": "code",
   "execution_count": 29,
   "id": "right-secret",
   "metadata": {
    "id": "agreed-library"
   },
   "outputs": [
    {
     "data": {
      "text/plain": [
       "array(['Gentoo', 'Gentoo', 'Adelie', 'Adelie', 'Gentoo', 'Gentoo',\n",
       "       'Gentoo', 'Gentoo', 'Gentoo', 'Adelie', 'Chinstrap', 'Gentoo',\n",
       "       'Gentoo', 'Adelie', 'Gentoo', 'Gentoo', 'Gentoo', 'Gentoo',\n",
       "       'Chinstrap', 'Adelie', 'Adelie', 'Chinstrap', 'Gentoo', 'Adelie',\n",
       "       'Gentoo', 'Gentoo', 'Chinstrap', 'Adelie', 'Gentoo', 'Gentoo',\n",
       "       'Chinstrap', 'Adelie', 'Adelie', 'Gentoo', 'Gentoo', 'Adelie',\n",
       "       'Adelie', 'Adelie', 'Adelie', 'Adelie', 'Adelie', 'Adelie',\n",
       "       'Chinstrap', 'Adelie', 'Adelie', 'Gentoo', 'Adelie', 'Gentoo',\n",
       "       'Chinstrap', 'Adelie', 'Chinstrap', 'Adelie', 'Chinstrap',\n",
       "       'Adelie', 'Adelie', 'Adelie', 'Chinstrap', 'Adelie', 'Adelie',\n",
       "       'Adelie', 'Chinstrap', 'Adelie', 'Adelie', 'Adelie', 'Chinstrap',\n",
       "       'Gentoo', 'Chinstrap', 'Gentoo', 'Adelie', 'Adelie', 'Adelie',\n",
       "       'Adelie', 'Gentoo', 'Gentoo', 'Gentoo', 'Gentoo', 'Gentoo',\n",
       "       'Adelie', 'Gentoo', 'Gentoo', 'Chinstrap', 'Adelie', 'Adelie',\n",
       "       'Adelie'], dtype=object)"
      ]
     },
     "execution_count": 29,
     "metadata": {},
     "output_type": "execute_result"
    }
   ],
   "source": [
    "# Probar nuestro modelo con los datos de test\n",
    "\n",
    "y_pred_depth4 = arbol_depth4.predict(X_test)\n",
    "y_pred_depth4"
   ]
  },
  {
   "cell_type": "code",
   "execution_count": 30,
   "id": "inappropriate-stroke",
   "metadata": {
    "id": "informal-intersection"
   },
   "outputs": [
    {
     "data": {
      "text/plain": [
       "Text(33.0, 0.5, 'Etiquetas reales')"
      ]
     },
     "execution_count": 30,
     "metadata": {},
     "output_type": "execute_result"
    },
    {
     "data": {
      "image/png": "[encoded data removed]",
      "text/plain": [
       "<Figure size 432x288 with 2 Axes>"
      ]
     },
     "metadata": {
      "needs_background": "light"
     },
     "output_type": "display_data"
    }
   ],
   "source": [
    "# Matriz de confusión:comparando resultado original (y_test) con predicción del modelo (y_pred_depth4)\n",
    "matriz_depth4 = confusion_matrix(y_test, y_pred_depth4)\n",
    "sns.heatmap(matriz_depth4, annot=True)\n",
    "plt.xlabel(\"Etiquetas predichas\")\n",
    "plt.ylabel(\"Etiquetas reales\")"
   ]
  },
  {
   "cell_type": "code",
   "execution_count": 31,
   "id": "proved-clarity",
   "metadata": {
    "id": "rotary-hardware"
   },
   "outputs": [
    {
     "data": {
      "text/plain": [
       "0.9880952380952381"
      ]
     },
     "execution_count": 31,
     "metadata": {},
     "output_type": "execute_result"
    }
   ],
   "source": [
    "exactitud_depth4 = accuracy_score(y_test, y_pred_depth4)\n",
    "exactitud_depth4"
   ]
  },
  {
   "cell_type": "code",
   "execution_count": 32,
   "id": "photographic-saudi",
   "metadata": {},
   "outputs": [
    {
     "name": "stdout",
     "output_type": "stream",
     "text": [
      "La exactitud del modelo con los hiperparámetros por default es 0.96\n",
      "La exactitud del modelo hiperparámetro profundidad máxima de 4 es 0.99\n"
     ]
    }
   ],
   "source": [
    "print(\"La exactitud del modelo con los hiperparámetros por default es\", round(exactitud_arbol,2))\n",
    "print(\"La exactitud del modelo hiperparámetro profundidad máxima de 4 es\", round(exactitud_depth4,2))"
   ]
  },
  {
   "cell_type": "markdown",
   "id": "changing-closure",
   "metadata": {},
   "source": [
    "#### Entrenamos nuestro modelo con otro hiperparámetro"
   ]
  },
  {
   "cell_type": "code",
   "execution_count": 33,
   "id": "subjective-documentation",
   "metadata": {
    "id": "japanese-gossip"
   },
   "outputs": [],
   "source": [
    "# Instanciamos el modelo que utilizaremos con el hiperparámetro max_depth=2\n",
    "\n",
    "arbol_depth2 = DecisionTreeClassifier(max_depth=2)"
   ]
  },
  {
   "cell_type": "code",
   "execution_count": 34,
   "id": "consolidated-sense",
   "metadata": {
    "colab": {
     "base_uri": "https://localhost:8080/"
    },
    "id": "satisfactory-capability",
    "outputId": "220644a0-f766-4f2b-bd02-959df46ebb9d"
   },
   "outputs": [
    {
     "data": {
      "text/plain": [
       "DecisionTreeClassifier(max_depth=2)"
      ]
     },
     "execution_count": 34,
     "metadata": {},
     "output_type": "execute_result"
    }
   ],
   "source": [
    "# Entrenamos el modelo \n",
    "\n",
    "arbol_depth2.fit(X_train, y_train)"
   ]
  },
  {
   "cell_type": "code",
   "execution_count": 35,
   "id": "gentle-toilet",
   "metadata": {},
   "outputs": [
    {
     "data": {
      "text/plain": [
       "[Text(279.0, 453.0, 'bill_depth_mm <= 207.0\\ngini = 0.644\\nsamples = 249\\nvalue = [106, 54, 89]\\nclass = Iris-setosa'),\n",
       " Text(139.5, 271.8, 'species <= 44.65\\ngini = 0.447\\nsamples = 157\\nvalue = [105, 51, 1]\\nclass = Iris-setosa'),\n",
       " Text(69.75, 90.59999999999997, 'gini = 0.071\\nsamples = 108\\nvalue = [104, 4, 0]\\nclass = Iris-setosa'),\n",
       " Text(209.25, 90.59999999999997, 'gini = 0.079\\nsamples = 49\\nvalue = [1, 47, 1]\\nclass = Iris-versicolor'),\n",
       " Text(418.5, 271.8, 'sex__Male <= 0.5\\ngini = 0.084\\nsamples = 92\\nvalue = [1, 3, 88]\\nclass = Iris-virginica'),\n",
       " Text(348.75, 90.59999999999997, 'gini = 0.0\\nsamples = 88\\nvalue = [0, 0, 88]\\nclass = Iris-virginica'),\n",
       " Text(488.25, 90.59999999999997, 'gini = 0.375\\nsamples = 4\\nvalue = [1, 3, 0]\\nclass = Iris-versicolor')]"
      ]
     },
     "execution_count": 35,
     "metadata": {},
     "output_type": "execute_result"
    },
    {
     "data": {
      "image/png": "[encoded data removed]",
      "text/plain": [
       "<Figure size 720x720 with 1 Axes>"
      ]
     },
     "metadata": {
      "needs_background": "light"
     },
     "output_type": "display_data"
    }
   ],
   "source": [
    "# Visualizamos el modelo entrenado\n",
    "plt.figure(figsize = (10,10))\n",
    "tree.plot_tree(arbol_depth2, feature_names=data.columns[:-1],filled=True,rounded=True)\n"
   ]
  },
  {
   "cell_type": "markdown",
   "id": "dynamic-terrorist",
   "metadata": {},
   "source": [
    "##### Evaluación de datos de train\n",
    "\n",
    "Podemos utilizar una métrica de evaluación para ver la performance del modelo con los datos de entrenamiento"
   ]
  },
  {
   "cell_type": "code",
   "execution_count": 36,
   "id": "removed-repository",
   "metadata": {},
   "outputs": [
    {
     "data": {
      "text/plain": [
       "0.9718875502008032"
      ]
     },
     "execution_count": 36,
     "metadata": {},
     "output_type": "execute_result"
    }
   ],
   "source": [
    "y_pred_train_depth2 = arbol_depth2.predict(X_train)\n",
    "exactitud_train_depth2 = accuracy_score(y_train, y_pred_train_depth2)\n",
    "exactitud_train_depth2"
   ]
  },
  {
   "cell_type": "markdown",
   "id": "lyric-marsh",
   "metadata": {},
   "source": [
    "##### Probamos y evaluamos nuestro modelo\n",
    "\n",
    "Utilizamos el metodo predict para probar nuestro modelo con los datos de test. Luego comparamos la predicciones de nuestro modelo con el resultado real a través de una matrix de confusión y utilizando la métrica accuracy (exactitud)"
   ]
  },
  {
   "cell_type": "code",
   "execution_count": 37,
   "id": "younger-offer",
   "metadata": {
    "id": "agreed-library"
   },
   "outputs": [],
   "source": [
    "# Probar nuestro modelo con los datos de test\n",
    "\n",
    "y_pred_depth2 = arbol_depth2.predict(X_test)\n"
   ]
  },
  {
   "cell_type": "code",
   "execution_count": 38,
   "id": "golden-prime",
   "metadata": {
    "id": "informal-intersection"
   },
   "outputs": [
    {
     "data": {
      "text/plain": [
       "Text(33.0, 0.5, 'Etiquetas reales')"
      ]
     },
     "execution_count": 38,
     "metadata": {},
     "output_type": "execute_result"
    },
    {
     "data": {
      "image/png": "[encoded data removed]",
      "text/plain": [
       "<Figure size 432x288 with 2 Axes>"
      ]
     },
     "metadata": {
      "needs_background": "light"
     },
     "output_type": "display_data"
    }
   ],
   "source": [
    "# Matriz de confusión:comparando resultado original (y_test) con predicción del modelo (y_pred_depth2)\n",
    "matriz_depth2 = confusion_matrix(y_test, y_pred_depth2)\n",
    "sns.heatmap(matriz_depth2, annot=True)\n",
    "plt.xlabel(\"Etiquetas predichas\")\n",
    "plt.ylabel(\"Etiquetas reales\")"
   ]
  },
  {
   "cell_type": "code",
   "execution_count": 39,
   "id": "olympic-regular",
   "metadata": {
    "id": "rotary-hardware"
   },
   "outputs": [
    {
     "data": {
      "text/plain": [
       "0.9285714285714286"
      ]
     },
     "execution_count": 39,
     "metadata": {},
     "output_type": "execute_result"
    }
   ],
   "source": [
    "# Métrica accuracy\n",
    "\n",
    "exactitud_depth2 = accuracy_score(y_test, y_pred_depth2)\n",
    "exactitud_depth2"
   ]
  },
  {
   "cell_type": "code",
   "execution_count": 40,
   "id": "atlantic-labor",
   "metadata": {},
   "outputs": [
    {
     "name": "stdout",
     "output_type": "stream",
     "text": [
      "La exactitud del modelo con los hiperparámetros por default es 0.96\n",
      "La exactitud del modelo con hiperparámetro profundidad máxima de 4 es 0.99\n",
      "La exactitud del modelo con hiperparámetro profundidad máxima de 2 es 0.93\n"
     ]
    }
   ],
   "source": [
    "# Comparamos todos los modelos\n",
    "\n",
    "print(\"La exactitud del modelo con los hiperparámetros por default es\", round(exactitud_arbol,2))\n",
    "print(\"La exactitud del modelo con hiperparámetro profundidad máxima de 4 es\", round(exactitud_depth4,2))\n",
    "print(\"La exactitud del modelo con hiperparámetro profundidad máxima de 2 es\", round(exactitud_depth2,2))\n"
   ]
  },
  {
   "cell_type": "code",
   "execution_count": null,
   "id": "elegant-month",
   "metadata": {},
   "outputs": [],
   "source": []
  }
 ],
 "metadata": {
  "kernelspec": {
   "display_name": "Python 3",
   "language": "python",
   "name": "python3"
  },
  "language_info": {
   "codemirror_mode": {
    "name": "ipython",
    "version": 3
   },
   "file_extension": ".py",
   "mimetype": "text/x-python",
   "name": "python",
   "nbconvert_exporter": "python",
   "pygments_lexer": "ipython3",
   "version": "3.7.10"
  }
 },
 "nbformat": 4,
 "nbformat_minor": 5
}
