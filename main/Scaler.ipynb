{
 "cells": [
  {
   "cell_type": "markdown",
   "metadata": {},
   "source": [
    "# Estandarización\n",
    "\n",
    "\n",
    "Muchos de los modelos dependen de las medidas de las distancias de las variables en el espacio. Debido a esto es importante que todas las variables estén medidas en **la misma escala**, en los casos que no sea así, es necesario normalizar/estandarizar los datos.\n",
    "\n",
    "Cuando se cambia una esclaa de un vector, significa que se debe sumar o restar una constante y luego multiplicar o dividir por otra constante. Esta es lamanera en la que se cambia las unidades de medida de los datos (por ejemplo para convertir de Grados Celsius a Fahrenheit)--Fuente: http://www.faqs.org/faqs/ai-faq/neural-nets/part2/section-16.html--\n",
    "\n",
    "Hay distintos métodos para realizar esto, en este caso vamos a utilizar la Estandarización con el método StandarScaler y la Normalización MinMax con el métodos MinMaxScaler de la librería Scikit-Learn\n",
    "\n",
    "Como ejemplo utilizaremos nuevamente la Regresión con KNN y veremos si cambia el resultado de la performance de los modelos. Utilizaremos el dataset de \"insurance\" para predecir el costo de un Seguro de Salud de Kaggle. "
   ]
  },
  {
   "cell_type": "code",
   "execution_count": 1,
   "metadata": {},
   "outputs": [],
   "source": [
    "import matplotlib.pyplot as plt\n",
    "import seaborn as sns\n",
    "import pandas as pd"
   ]
  },
  {
   "cell_type": "code",
   "execution_count": 2,
   "metadata": {
    "id": "demanding-genealogy"
   },
   "outputs": [],
   "source": [
    "data_salud = pd.read_csv(\"insurance.csv\")"
   ]
  },
  {
   "cell_type": "code",
   "execution_count": 3,
   "metadata": {
    "id": "supported-absence"
   },
   "outputs": [
    {
     "data": {
      "text/html": [
       "<div>\n",
       "<style scoped>\n",
       "    .dataframe tbody tr th:only-of-type {\n",
       "        vertical-align: middle;\n",
       "    }\n",
       "\n",
       "    .dataframe tbody tr th {\n",
       "        vertical-align: top;\n",
       "    }\n",
       "\n",
       "    .dataframe thead th {\n",
       "        text-align: right;\n",
       "    }\n",
       "</style>\n",
       "<table border=\"1\" class=\"dataframe\">\n",
       "  <thead>\n",
       "    <tr style=\"text-align: right;\">\n",
       "      <th></th>\n",
       "      <th>age</th>\n",
       "      <th>sex</th>\n",
       "      <th>bmi</th>\n",
       "      <th>children</th>\n",
       "      <th>smoker</th>\n",
       "      <th>region</th>\n",
       "      <th>charges</th>\n",
       "    </tr>\n",
       "  </thead>\n",
       "  <tbody>\n",
       "    <tr>\n",
       "      <th>0</th>\n",
       "      <td>19</td>\n",
       "      <td>female</td>\n",
       "      <td>27.90</td>\n",
       "      <td>0</td>\n",
       "      <td>yes</td>\n",
       "      <td>southwest</td>\n",
       "      <td>16884.9240</td>\n",
       "    </tr>\n",
       "    <tr>\n",
       "      <th>1</th>\n",
       "      <td>18</td>\n",
       "      <td>male</td>\n",
       "      <td>33.77</td>\n",
       "      <td>1</td>\n",
       "      <td>no</td>\n",
       "      <td>southeast</td>\n",
       "      <td>1725.5523</td>\n",
       "    </tr>\n",
       "    <tr>\n",
       "      <th>2</th>\n",
       "      <td>28</td>\n",
       "      <td>male</td>\n",
       "      <td>33.00</td>\n",
       "      <td>3</td>\n",
       "      <td>no</td>\n",
       "      <td>southeast</td>\n",
       "      <td>4449.4620</td>\n",
       "    </tr>\n",
       "  </tbody>\n",
       "</table>\n",
       "</div>"
      ],
      "text/plain": [
       "   age     sex    bmi  children smoker     region     charges\n",
       "0   19  female  27.90         0    yes  southwest  16884.9240\n",
       "1   18    male  33.77         1     no  southeast   1725.5523\n",
       "2   28    male  33.00         3     no  southeast   4449.4620"
      ]
     },
     "execution_count": 3,
     "metadata": {},
     "output_type": "execute_result"
    }
   ],
   "source": [
    "# Observamos las primeras tres columnas\n",
    "data_salud.head(3)"
   ]
  },
  {
   "cell_type": "markdown",
   "metadata": {
    "id": "Ppup1__RjHlk"
   },
   "source": [
    "**age**: Edad del beneficiario principal \n",
    "\n",
    "**sex**: Sexo del contratista: male (hombre) / female (mujer)\n",
    "\n",
    "**bmi**:  Índice de masa corporal\n",
    "\n",
    "**children**:Número de hijos cubiertos por el seguro médico\n",
    "\n",
    "**smoker**: Fumador\n",
    "\n",
    "**region**: Área residencial del beneficiario en los EE. UU: noreste, sureste, suroeste, noroeste.\n",
    "\n",
    "**charges**: Costo individual facturado por Seguro Medico"
   ]
  },
  {
   "cell_type": "code",
   "execution_count": 4,
   "metadata": {
    "id": "sophisticated-motor"
   },
   "outputs": [
    {
     "name": "stdout",
     "output_type": "stream",
     "text": [
      "<class 'pandas.core.frame.DataFrame'>\n",
      "RangeIndex: 1338 entries, 0 to 1337\n",
      "Data columns (total 7 columns):\n",
      " #   Column    Non-Null Count  Dtype  \n",
      "---  ------    --------------  -----  \n",
      " 0   age       1338 non-null   int64  \n",
      " 1   sex       1338 non-null   object \n",
      " 2   bmi       1338 non-null   float64\n",
      " 3   children  1338 non-null   int64  \n",
      " 4   smoker    1338 non-null   object \n",
      " 5   region    1338 non-null   object \n",
      " 6   charges   1338 non-null   float64\n",
      "dtypes: float64(2), int64(2), object(3)\n",
      "memory usage: 73.3+ KB\n"
     ]
    }
   ],
   "source": [
    "#ver la información (qué tamaño tiene, qué columnas, que tipos de datos, si hay nulos)\n",
    "\n",
    "data_salud.info()"
   ]
  },
  {
   "cell_type": "code",
   "execution_count": 5,
   "metadata": {
    "id": "square-garden"
   },
   "outputs": [],
   "source": [
    "# Si se utiliza get_dummies sobre todo el dataset, las variables numéricas seguiran igual, las variables categóricas las convertirá en dummies\n",
    "# Automáticamente genera el prefijo con el nombre de la columna\n",
    "# También es posible utilizar el drop_first\n",
    "\n",
    "\n",
    "data_salud = pd.get_dummies(data_salud, drop_first=True)"
   ]
  },
  {
   "cell_type": "code",
   "execution_count": 6,
   "metadata": {
    "id": "welcome-hygiene"
   },
   "outputs": [
    {
     "data": {
      "text/html": [
       "<div>\n",
       "<style scoped>\n",
       "    .dataframe tbody tr th:only-of-type {\n",
       "        vertical-align: middle;\n",
       "    }\n",
       "\n",
       "    .dataframe tbody tr th {\n",
       "        vertical-align: top;\n",
       "    }\n",
       "\n",
       "    .dataframe thead th {\n",
       "        text-align: right;\n",
       "    }\n",
       "</style>\n",
       "<table border=\"1\" class=\"dataframe\">\n",
       "  <thead>\n",
       "    <tr style=\"text-align: right;\">\n",
       "      <th></th>\n",
       "      <th>age</th>\n",
       "      <th>bmi</th>\n",
       "      <th>children</th>\n",
       "      <th>charges</th>\n",
       "      <th>sex_male</th>\n",
       "      <th>smoker_yes</th>\n",
       "      <th>region_northwest</th>\n",
       "      <th>region_southeast</th>\n",
       "      <th>region_southwest</th>\n",
       "    </tr>\n",
       "  </thead>\n",
       "  <tbody>\n",
       "    <tr>\n",
       "      <th>0</th>\n",
       "      <td>19</td>\n",
       "      <td>27.90</td>\n",
       "      <td>0</td>\n",
       "      <td>16884.9240</td>\n",
       "      <td>0</td>\n",
       "      <td>1</td>\n",
       "      <td>0</td>\n",
       "      <td>0</td>\n",
       "      <td>1</td>\n",
       "    </tr>\n",
       "    <tr>\n",
       "      <th>1</th>\n",
       "      <td>18</td>\n",
       "      <td>33.77</td>\n",
       "      <td>1</td>\n",
       "      <td>1725.5523</td>\n",
       "      <td>1</td>\n",
       "      <td>0</td>\n",
       "      <td>0</td>\n",
       "      <td>1</td>\n",
       "      <td>0</td>\n",
       "    </tr>\n",
       "    <tr>\n",
       "      <th>2</th>\n",
       "      <td>28</td>\n",
       "      <td>33.00</td>\n",
       "      <td>3</td>\n",
       "      <td>4449.4620</td>\n",
       "      <td>1</td>\n",
       "      <td>0</td>\n",
       "      <td>0</td>\n",
       "      <td>1</td>\n",
       "      <td>0</td>\n",
       "    </tr>\n",
       "  </tbody>\n",
       "</table>\n",
       "</div>"
      ],
      "text/plain": [
       "   age    bmi  children     charges  sex_male  smoker_yes  region_northwest  \\\n",
       "0   19  27.90         0  16884.9240         0           1                 0   \n",
       "1   18  33.77         1   1725.5523         1           0                 0   \n",
       "2   28  33.00         3   4449.4620         1           0                 0   \n",
       "\n",
       "   region_southeast  region_southwest  \n",
       "0                 0                 1  \n",
       "1                 1                 0  \n",
       "2                 1                 0  "
      ]
     },
     "execution_count": 6,
     "metadata": {},
     "output_type": "execute_result"
    }
   ],
   "source": [
    "data_salud.head(3)"
   ]
  },
  {
   "cell_type": "code",
   "execution_count": 8,
   "metadata": {},
   "outputs": [
    {
     "data": {
      "text/html": [
       "<div>\n",
       "<style scoped>\n",
       "    .dataframe tbody tr th:only-of-type {\n",
       "        vertical-align: middle;\n",
       "    }\n",
       "\n",
       "    .dataframe tbody tr th {\n",
       "        vertical-align: top;\n",
       "    }\n",
       "\n",
       "    .dataframe thead th {\n",
       "        text-align: right;\n",
       "    }\n",
       "</style>\n",
       "<table border=\"1\" class=\"dataframe\">\n",
       "  <thead>\n",
       "    <tr style=\"text-align: right;\">\n",
       "      <th></th>\n",
       "      <th>age</th>\n",
       "      <th>bmi</th>\n",
       "      <th>children</th>\n",
       "      <th>charges</th>\n",
       "      <th>sex_male</th>\n",
       "      <th>smoker_yes</th>\n",
       "      <th>region_northwest</th>\n",
       "      <th>region_southeast</th>\n",
       "      <th>region_southwest</th>\n",
       "    </tr>\n",
       "  </thead>\n",
       "  <tbody>\n",
       "    <tr>\n",
       "      <th>count</th>\n",
       "      <td>1338.000000</td>\n",
       "      <td>1338.000000</td>\n",
       "      <td>1338.000000</td>\n",
       "      <td>1338.000000</td>\n",
       "      <td>1338.000000</td>\n",
       "      <td>1338.000000</td>\n",
       "      <td>1338.000000</td>\n",
       "      <td>1338.000000</td>\n",
       "      <td>1338.000000</td>\n",
       "    </tr>\n",
       "    <tr>\n",
       "      <th>mean</th>\n",
       "      <td>39.207025</td>\n",
       "      <td>30.663397</td>\n",
       "      <td>1.094918</td>\n",
       "      <td>13270.422265</td>\n",
       "      <td>0.505232</td>\n",
       "      <td>0.204783</td>\n",
       "      <td>0.242900</td>\n",
       "      <td>0.272048</td>\n",
       "      <td>0.242900</td>\n",
       "    </tr>\n",
       "    <tr>\n",
       "      <th>std</th>\n",
       "      <td>14.049960</td>\n",
       "      <td>6.098187</td>\n",
       "      <td>1.205493</td>\n",
       "      <td>12110.011237</td>\n",
       "      <td>0.500160</td>\n",
       "      <td>0.403694</td>\n",
       "      <td>0.428995</td>\n",
       "      <td>0.445181</td>\n",
       "      <td>0.428995</td>\n",
       "    </tr>\n",
       "    <tr>\n",
       "      <th>min</th>\n",
       "      <td>18.000000</td>\n",
       "      <td>15.960000</td>\n",
       "      <td>0.000000</td>\n",
       "      <td>1121.873900</td>\n",
       "      <td>0.000000</td>\n",
       "      <td>0.000000</td>\n",
       "      <td>0.000000</td>\n",
       "      <td>0.000000</td>\n",
       "      <td>0.000000</td>\n",
       "    </tr>\n",
       "    <tr>\n",
       "      <th>25%</th>\n",
       "      <td>27.000000</td>\n",
       "      <td>26.296250</td>\n",
       "      <td>0.000000</td>\n",
       "      <td>4740.287150</td>\n",
       "      <td>0.000000</td>\n",
       "      <td>0.000000</td>\n",
       "      <td>0.000000</td>\n",
       "      <td>0.000000</td>\n",
       "      <td>0.000000</td>\n",
       "    </tr>\n",
       "    <tr>\n",
       "      <th>50%</th>\n",
       "      <td>39.000000</td>\n",
       "      <td>30.400000</td>\n",
       "      <td>1.000000</td>\n",
       "      <td>9382.033000</td>\n",
       "      <td>1.000000</td>\n",
       "      <td>0.000000</td>\n",
       "      <td>0.000000</td>\n",
       "      <td>0.000000</td>\n",
       "      <td>0.000000</td>\n",
       "    </tr>\n",
       "    <tr>\n",
       "      <th>75%</th>\n",
       "      <td>51.000000</td>\n",
       "      <td>34.693750</td>\n",
       "      <td>2.000000</td>\n",
       "      <td>16639.912515</td>\n",
       "      <td>1.000000</td>\n",
       "      <td>0.000000</td>\n",
       "      <td>0.000000</td>\n",
       "      <td>1.000000</td>\n",
       "      <td>0.000000</td>\n",
       "    </tr>\n",
       "    <tr>\n",
       "      <th>max</th>\n",
       "      <td>64.000000</td>\n",
       "      <td>53.130000</td>\n",
       "      <td>5.000000</td>\n",
       "      <td>63770.428010</td>\n",
       "      <td>1.000000</td>\n",
       "      <td>1.000000</td>\n",
       "      <td>1.000000</td>\n",
       "      <td>1.000000</td>\n",
       "      <td>1.000000</td>\n",
       "    </tr>\n",
       "  </tbody>\n",
       "</table>\n",
       "</div>"
      ],
      "text/plain": [
       "               age          bmi     children       charges     sex_male  \\\n",
       "count  1338.000000  1338.000000  1338.000000   1338.000000  1338.000000   \n",
       "mean     39.207025    30.663397     1.094918  13270.422265     0.505232   \n",
       "std      14.049960     6.098187     1.205493  12110.011237     0.500160   \n",
       "min      18.000000    15.960000     0.000000   1121.873900     0.000000   \n",
       "25%      27.000000    26.296250     0.000000   4740.287150     0.000000   \n",
       "50%      39.000000    30.400000     1.000000   9382.033000     1.000000   \n",
       "75%      51.000000    34.693750     2.000000  16639.912515     1.000000   \n",
       "max      64.000000    53.130000     5.000000  63770.428010     1.000000   \n",
       "\n",
       "        smoker_yes  region_northwest  region_southeast  region_southwest  \n",
       "count  1338.000000       1338.000000       1338.000000       1338.000000  \n",
       "mean      0.204783          0.242900          0.272048          0.242900  \n",
       "std       0.403694          0.428995          0.445181          0.428995  \n",
       "min       0.000000          0.000000          0.000000          0.000000  \n",
       "25%       0.000000          0.000000          0.000000          0.000000  \n",
       "50%       0.000000          0.000000          0.000000          0.000000  \n",
       "75%       0.000000          0.000000          1.000000          0.000000  \n",
       "max       1.000000          1.000000          1.000000          1.000000  "
      ]
     },
     "execution_count": 8,
     "metadata": {},
     "output_type": "execute_result"
    }
   ],
   "source": [
    "#Observamos el promedio(mean), el máximo y el mínimo para ver la escala de las variables. \n",
    "\n",
    "data_salud.describe()"
   ]
  },
  {
   "cell_type": "code",
   "execution_count": 12,
   "metadata": {},
   "outputs": [
    {
     "data": {
      "text/plain": [
       "39.20702541106129"
      ]
     },
     "execution_count": 12,
     "metadata": {},
     "output_type": "execute_result"
    }
   ],
   "source": [
    "data_salud[\"age\"].mean()"
   ]
  },
  {
   "cell_type": "markdown",
   "metadata": {
    "id": "musical-cyprus"
   },
   "source": [
    "#### Entrenamiento del modelo KNN\n",
    "\n"
   ]
  },
  {
   "cell_type": "code",
   "execution_count": 13,
   "metadata": {
    "id": "nonprofit-banana"
   },
   "outputs": [],
   "source": [
    "#Generamos X e y\n",
    "\n",
    "X = data_salud.drop(columns = \"charges\")   #variables predictoras\n",
    "y = data_salud[\"charges\"]                  #variable a predecir"
   ]
  },
  {
   "cell_type": "code",
   "execution_count": 14,
   "metadata": {
    "id": "unauthorized-geography"
   },
   "outputs": [],
   "source": [
    "# Dividimos datos en train y test\n",
    "from sklearn.model_selection import train_test_split\n",
    "\n",
    "X_train, X_test, y_train, y_test = train_test_split(X, y, random_state=253)  #por default 25% de test\n"
   ]
  },
  {
   "cell_type": "code",
   "execution_count": 15,
   "metadata": {
    "id": "nutritional-israeli"
   },
   "outputs": [
    {
     "name": "stdout",
     "output_type": "stream",
     "text": [
      "El tamaño de X_train es:  (1003, 8)\n",
      "El tamaño de X_test es:  (335, 8)\n",
      "El tamaño de y_train es:  (1003,)\n",
      "El tamaño de y_test es:  (335,)\n"
     ]
    }
   ],
   "source": [
    "print(\"El tamaño de X_train es: \", X_train.shape)\n",
    "print(\"El tamaño de X_test es: \",X_test.shape)\n",
    "print(\"El tamaño de y_train es: \",y_train.shape)\n",
    "print(\"El tamaño de y_test es: \",y_test.shape)"
   ]
  },
  {
   "cell_type": "code",
   "execution_count": 16,
   "metadata": {},
   "outputs": [],
   "source": [
    "# Importamos de la librería Scikit-Learn el modelo que utilizaremos KNN de regresión\n",
    "\n",
    "from sklearn.neighbors import KNeighborsRegressor\n",
    "from sklearn.metrics import r2_score\n"
   ]
  },
  {
   "cell_type": "code",
   "execution_count": 19,
   "metadata": {},
   "outputs": [
    {
     "name": "stdout",
     "output_type": "stream",
     "text": [
      "el R2 del modelo con  2 vecinos más cercanos es  0.08288653751333597\n",
      "el R2 del modelo con  3 vecinos más cercanos es  0.12735796271888689\n",
      "el R2 del modelo con  4 vecinos más cercanos es  0.18989762383230013\n",
      "el R2 del modelo con  5 vecinos más cercanos es  0.24665793549933301\n",
      "el R2 del modelo con  6 vecinos más cercanos es  0.21949908035346022\n",
      "el R2 del modelo con  7 vecinos más cercanos es  0.20614326994273036\n",
      "el R2 del modelo con  8 vecinos más cercanos es  0.22545635154146315\n",
      "el R2 del modelo con  9 vecinos más cercanos es  0.22629329102187734\n"
     ]
    },
    {
     "data": {
      "text/plain": [
       "[0.08288653751333597,\n",
       " 0.12735796271888689,\n",
       " 0.18989762383230013,\n",
       " 0.24665793549933301,\n",
       " 0.21949908035346022,\n",
       " 0.20614326994273036,\n",
       " 0.22545635154146315,\n",
       " 0.22629329102187734]"
      ]
     },
     "execution_count": 19,
     "metadata": {},
     "output_type": "execute_result"
    }
   ],
   "source": [
    "#Podemos hacer una interación cambiando el hiperparámetro n_neighbors de 2 a 10 para ver los resultados\n",
    "\n",
    "r2 = []\n",
    "for k in range(2,10):\n",
    "    knn_n= KNeighborsRegressor(n_neighbors=k)\n",
    "    knn_n.fit(X_train, y_train)\n",
    "    y_pred_n = knn_n.predict(X_test)\n",
    "    r2_knnn = r2_score(y_test,y_pred_n)\n",
    "    r2.append(r2_knnn)\n",
    "    print(\"el R2 del modelo con \", k, \"vecinos más cercanos es \", r2_knnn)\n",
    "\n"
   ]
  },
  {
   "cell_type": "markdown",
   "metadata": {},
   "source": [
    "### Estandarizamos las variables con distintos métodos\n",
    "\n",
    "#### Estandarización con StandarScaler"
   ]
  },
  {
   "attachments": {
    "image.png": {
     "image/png": "[encoded data removed]"
    }
   },
   "cell_type": "markdown",
   "metadata": {},
   "source": [
    "Las variables que estamos utilizando tienen distinta escala por lo que es necesario realizar una estandarización, se utiliza cuando las variables tienen distribución normal. \n",
    "\n",
    "Todas las variables deben tener media = 0 y desvío estandar = 1. Lo que se realiza es la generación del z-score restando cada valor a la media y dividiendo por el desvío estandar. \n",
    "\n",
    "![image.png](attachment:image.png)\n",
    "\n",
    "Fuente: https://www.cienciadedatos.net/documentos/py06_machine_learning_python_scikitlearn.html"
   ]
  },
  {
   "cell_type": "markdown",
   "metadata": {},
   "source": [
    "#### Importamos el escalador e instanciamos un modelo\n",
    "\n",
    "Importamos de la librería de Pre-procesamiento de Scikit-Learn el MinMax Scaler y creamos el objeto que utilizaremos "
   ]
  },
  {
   "cell_type": "code",
   "execution_count": 20,
   "metadata": {},
   "outputs": [],
   "source": [
    "from sklearn.preprocessing import StandardScaler\n",
    "scaler = StandardScaler()"
   ]
  },
  {
   "cell_type": "markdown",
   "metadata": {},
   "source": [
    "#### Utilizamos el metodo fit_transform sobre los datos de entrenamiento\n",
    "\n",
    "En este caso se entrena el modelo Scaler para definir la Media y el Desvío Estandar y luego se utiliza el método *transform* para transformar los datos de entrenamiento de acuerdo a lo definido en el entrenamiento. Se realiza todo con el mismo método: *fit_transform*"
   ]
  },
  {
   "cell_type": "code",
   "execution_count": 22,
   "metadata": {},
   "outputs": [
    {
     "data": {
      "text/plain": [
       "array([[ 1.32209434,  0.17251778,  0.78860719, ..., -0.55777335,\n",
       "        -0.61615125, -0.56852352],\n",
       "       [-1.50171448,  0.45332199, -0.90150609, ..., -0.55777335,\n",
       "        -0.61615125, -0.56852352],\n",
       "       [ 1.74566566,  1.21773346, -0.90150609, ..., -0.55777335,\n",
       "        -0.61615125, -0.56852352],\n",
       "       ...,\n",
       "       [-0.37219095, -0.66414741, -0.05644945, ..., -0.55777335,\n",
       "         1.62297812, -0.56852352],\n",
       "       [ 0.96911824,  1.75635207, -0.90150609, ..., -0.55777335,\n",
       "         1.62297812, -0.56852352],\n",
       "       [ 0.96911824, -0.31108948, -0.90150609, ...,  1.79284291,\n",
       "        -0.61615125, -0.56852352]])"
      ]
     },
     "execution_count": 22,
     "metadata": {},
     "output_type": "execute_result"
    }
   ],
   "source": [
    "scaler.fit(X_train)\n",
    "X_train_std = scaler.transform(X_train)\n",
    "X_train_std"
   ]
  },
  {
   "cell_type": "markdown",
   "metadata": {},
   "source": [
    "#### Utilizamos el metodo transform sobre los datos de testeo\n",
    "\n",
    "En este caso el modelo ya está entrenado en el paso anterior por lo que solo debe realizarse la transformación con el método *transform*. El entrenamiento se hace solo con los datos de entrenamiento, si se entrenase nuevamente el modelo con los datos de testeo se corre el riesgo de que haya una media y un desvío estandar diferente (son menos cantidad de datos) y que el resultado de la normalización sea equivocado. \n",
    "\n",
    "La razón por la que no se entrena el Scaler con todos los datos (entranmiento y testeo) es porque el testeo simula la inclusión de datos nuevos con los que hoy no se cuenta."
   ]
  },
  {
   "cell_type": "code",
   "execution_count": 26,
   "metadata": {},
   "outputs": [
    {
     "data": {
      "text/html": [
       "<div>\n",
       "<style scoped>\n",
       "    .dataframe tbody tr th:only-of-type {\n",
       "        vertical-align: middle;\n",
       "    }\n",
       "\n",
       "    .dataframe tbody tr th {\n",
       "        vertical-align: top;\n",
       "    }\n",
       "\n",
       "    .dataframe thead th {\n",
       "        text-align: right;\n",
       "    }\n",
       "</style>\n",
       "<table border=\"1\" class=\"dataframe\">\n",
       "  <thead>\n",
       "    <tr style=\"text-align: right;\">\n",
       "      <th></th>\n",
       "      <th>age</th>\n",
       "      <th>bmi</th>\n",
       "      <th>children</th>\n",
       "      <th>sex_male</th>\n",
       "      <th>smoker_yes</th>\n",
       "      <th>region_northwest</th>\n",
       "      <th>region_southeast</th>\n",
       "      <th>region_southwest</th>\n",
       "    </tr>\n",
       "  </thead>\n",
       "  <tbody>\n",
       "    <tr>\n",
       "      <th>1029</th>\n",
       "      <td>37</td>\n",
       "      <td>17.290</td>\n",
       "      <td>2</td>\n",
       "      <td>0</td>\n",
       "      <td>0</td>\n",
       "      <td>0</td>\n",
       "      <td>0</td>\n",
       "      <td>0</td>\n",
       "    </tr>\n",
       "    <tr>\n",
       "      <th>271</th>\n",
       "      <td>50</td>\n",
       "      <td>34.200</td>\n",
       "      <td>2</td>\n",
       "      <td>1</td>\n",
       "      <td>1</td>\n",
       "      <td>0</td>\n",
       "      <td>0</td>\n",
       "      <td>1</td>\n",
       "    </tr>\n",
       "    <tr>\n",
       "      <th>339</th>\n",
       "      <td>46</td>\n",
       "      <td>27.720</td>\n",
       "      <td>1</td>\n",
       "      <td>0</td>\n",
       "      <td>0</td>\n",
       "      <td>0</td>\n",
       "      <td>1</td>\n",
       "      <td>0</td>\n",
       "    </tr>\n",
       "    <tr>\n",
       "      <th>478</th>\n",
       "      <td>21</td>\n",
       "      <td>36.850</td>\n",
       "      <td>0</td>\n",
       "      <td>1</td>\n",
       "      <td>0</td>\n",
       "      <td>0</td>\n",
       "      <td>1</td>\n",
       "      <td>0</td>\n",
       "    </tr>\n",
       "    <tr>\n",
       "      <th>995</th>\n",
       "      <td>39</td>\n",
       "      <td>23.275</td>\n",
       "      <td>3</td>\n",
       "      <td>0</td>\n",
       "      <td>0</td>\n",
       "      <td>0</td>\n",
       "      <td>0</td>\n",
       "      <td>0</td>\n",
       "    </tr>\n",
       "  </tbody>\n",
       "</table>\n",
       "</div>"
      ],
      "text/plain": [
       "      age     bmi  children  sex_male  smoker_yes  region_northwest  \\\n",
       "1029   37  17.290         2         0           0                 0   \n",
       "271    50  34.200         2         1           1                 0   \n",
       "339    46  27.720         1         0           0                 0   \n",
       "478    21  36.850         0         1           0                 0   \n",
       "995    39  23.275         3         0           0                 0   \n",
       "\n",
       "      region_southeast  region_southwest  \n",
       "1029                 0                 0  \n",
       "271                  0                 1  \n",
       "339                  1                 0  \n",
       "478                  1                 0  \n",
       "995                  0                 0  "
      ]
     },
     "execution_count": 26,
     "metadata": {},
     "output_type": "execute_result"
    }
   ],
   "source": [
    "X_test.head()"
   ]
  },
  {
   "cell_type": "code",
   "execution_count": 24,
   "metadata": {},
   "outputs": [
    {
     "data": {
      "text/plain": [
       "array([[-0.16040529, -2.21431803,  0.78860719, ..., -0.55777335,\n",
       "        -0.61615125, -0.56852352],\n",
       "       [ 0.75733258,  0.56252363,  0.78860719, ..., -0.55777335,\n",
       "        -0.61615125,  1.75894217],\n",
       "       [ 0.47495169, -0.50157654, -0.05644945, ..., -0.55777335,\n",
       "         1.62297812, -0.56852352],\n",
       "       ...,\n",
       "       [ 0.40435647, -0.48351312,  0.78860719, ..., -0.55777335,\n",
       "         1.62297812, -0.56852352],\n",
       "       [-1.28992882,  0.04032632, -0.90150609, ..., -0.55777335,\n",
       "         1.62297812, -0.56852352],\n",
       "       [-0.37219095,  0.18811801, -0.05644945, ..., -0.55777335,\n",
       "        -0.61615125, -0.56852352]])"
      ]
     },
     "execution_count": 24,
     "metadata": {},
     "output_type": "execute_result"
    }
   ],
   "source": [
    "X_test_std = scaler.transform(X_test)\n",
    "X_test_std"
   ]
  },
  {
   "cell_type": "markdown",
   "metadata": {},
   "source": [
    "#### Entrenamos y testeamos nuevamente\n",
    "\n",
    "Utilizamos la iteración para ver la performance de los modelos con los distintos hiperparametros a fin de poder comparar con los modelos sin normalización."
   ]
  },
  {
   "cell_type": "code",
   "execution_count": 28,
   "metadata": {},
   "outputs": [
    {
     "name": "stdout",
     "output_type": "stream",
     "text": [
      "el R2 del modelo con con variables estandarizadas con StandarScaler y k= 2 vecinos más cercanos es  0.7283996638055471\n",
      "el R2 del modelo con con variables estandarizadas con StandarScaler y k= 3 vecinos más cercanos es  0.7464050848243624\n",
      "el R2 del modelo con con variables estandarizadas con StandarScaler y k= 4 vecinos más cercanos es  0.7586038985224107\n",
      "el R2 del modelo con con variables estandarizadas con StandarScaler y k= 5 vecinos más cercanos es  0.7674530883208732\n",
      "el R2 del modelo con con variables estandarizadas con StandarScaler y k= 6 vecinos más cercanos es  0.7709167847388706\n",
      "el R2 del modelo con con variables estandarizadas con StandarScaler y k= 7 vecinos más cercanos es  0.7685891804134949\n",
      "el R2 del modelo con con variables estandarizadas con StandarScaler y k= 8 vecinos más cercanos es  0.7614211561417339\n",
      "el R2 del modelo con con variables estandarizadas con StandarScaler y k= 9 vecinos más cercanos es  0.7568429256040061\n"
     ]
    }
   ],
   "source": [
    "# Realizamos nuevamente los modelos cambiando el hiperparámetro n_neighbors de 1 a 10 para ver los resultados\n",
    "\n",
    "r2_estandarizado = []\n",
    "\n",
    "for k in range(2,10):\n",
    "    knn_n= KNeighborsRegressor(n_neighbors=k)\n",
    "    knn_n.fit(X_train_std, y_train)\n",
    "    y_pred_n = knn_n.predict(X_test_std)\n",
    "    r2_knnn = r2_score(y_test,y_pred_n)\n",
    "    r2_estandarizado.append(r2_knnn)\n",
    "    print(\"el R2 del modelo con con variables estandarizadas con StandarScaler y k=\", k, \"vecinos más cercanos es \", r2_knnn)\n"
   ]
  },
  {
   "attachments": {
    "image.png": {
     "image/png": "[encoded data removed]"
    }
   },
   "cell_type": "markdown",
   "metadata": {},
   "source": [
    "#### Normalización con MinMaxScaler\n",
    "\n",
    "Otro ejemplo es la normalización utilizando los valores Máximos y Mínimos que lleva a todos los valores a estar entre 0 y 1. Este tipo de normalización es muy útil pero es sensible a outliers.\n",
    "\n",
    "En este caso se resta el mínimo y se divide por el máximo menos el mínimo\n",
    "\n",
    "![image.png](attachment:image.png)\n",
    "\n",
    "\n",
    "Fuente: https://www.cienciadedatos.net/documentos/py06_machine_learning_python_scikitlearn.html"
   ]
  },
  {
   "cell_type": "markdown",
   "metadata": {},
   "source": [
    "#### Importamos el escalador e instanciamos un modelo\n",
    "\n",
    "Importamos de la librería de Pre-procesamiento de Scikit-Learn el MinMax Scaler y creamos el objeto que utilizaremos "
   ]
  },
  {
   "cell_type": "code",
   "execution_count": 29,
   "metadata": {},
   "outputs": [],
   "source": [
    "# Importamos MinMaxScaler y e instanciamos un modelo\n",
    "\n",
    "from sklearn.preprocessing import MinMaxScaler\n",
    "scaler_minmax = MinMaxScaler()"
   ]
  },
  {
   "cell_type": "markdown",
   "metadata": {},
   "source": [
    "#### Utilizamos el metodo fit_transform sobre los datos de entrenamiento\n",
    "\n",
    "En este caso se entrena el modelo Scaler para definir los Mínimos y Máximos y luego se utiliza el método *transform* para transformar los datos de entrenamiento de acuerdo a lo definido en el entrenamiento. Se realiza todo con el mismo método: *fit_transform*"
   ]
  },
  {
   "cell_type": "code",
   "execution_count": 34,
   "metadata": {},
   "outputs": [
    {
     "data": {
      "text/plain": [
       "array([[0.86956522, 0.41332783, 0.4       , ..., 0.        , 0.        ,\n",
       "        0.        ],\n",
       "       [0.        , 0.46041581, 0.        , ..., 0.        , 0.        ,\n",
       "        0.        ],\n",
       "       [1.        , 0.58859975, 0.        , ..., 0.        , 0.        ,\n",
       "        0.        ],\n",
       "       ...,\n",
       "       [0.34782609, 0.27302767, 0.2       , ..., 0.        , 1.        ,\n",
       "        0.        ],\n",
       "       [0.76086957, 0.67892056, 0.        , ..., 0.        , 1.        ,\n",
       "        0.        ],\n",
       "       [0.76086957, 0.33223186, 0.        , ..., 1.        , 0.        ,\n",
       "        0.        ]])"
      ]
     },
     "execution_count": 34,
     "metadata": {},
     "output_type": "execute_result"
    }
   ],
   "source": [
    "X_train_smm = scaler_minmax.fit_transform(X_train)\n",
    "X_train_smm"
   ]
  },
  {
   "cell_type": "markdown",
   "metadata": {},
   "source": [
    "#### Utilizamos el metodo transform sobre los datos de testeo\n",
    "\n",
    "En este caso el modelo ya está entrenado en el paso anterior por lo que solo debe realizarse la transformación con el método *transform*. El entrenamiento se hace solo con los datos de entrenamiento, si se entrenase nuevamente el modelo con los datos de testeo se corre el riesgo de que haya un mínimo y un máximo diferente (son menos cantidad de datos) y que el resultado de la normalización sea equivocado. \n",
    "\n",
    "La razón por la que no se entrena el Scaler con todos los datos (entranmiento y testeo) es porque el testeo simula la inclusión de datos nuevos con los que hoy no se cuenta."
   ]
  },
  {
   "cell_type": "code",
   "execution_count": 36,
   "metadata": {},
   "outputs": [],
   "source": [
    "X_test_smm = scaler.transform(X_test)"
   ]
  },
  {
   "cell_type": "markdown",
   "metadata": {},
   "source": [
    "#### Entrenamos y testeamos nuevamente\n",
    "\n",
    "Utilizamos la iteración para ver la performance de los modelos con los distintos hiperparametros a fin de poder comparar con los modelos sin normalización."
   ]
  },
  {
   "cell_type": "code",
   "execution_count": 37,
   "metadata": {},
   "outputs": [
    {
     "name": "stdout",
     "output_type": "stream",
     "text": [
      "el R2 del modelo con con variables normalizadas con MinMaxScaler y k= 2 vecinos más cercanos es  0.7027282366687507\n",
      "el R2 del modelo con con variables normalizadas con MinMaxScaler y k= 3 vecinos más cercanos es  0.7102260150343589\n",
      "el R2 del modelo con con variables normalizadas con MinMaxScaler y k= 4 vecinos más cercanos es  0.7127395801122073\n",
      "el R2 del modelo con con variables normalizadas con MinMaxScaler y k= 5 vecinos más cercanos es  0.7237499088179009\n",
      "el R2 del modelo con con variables normalizadas con MinMaxScaler y k= 6 vecinos más cercanos es  0.7348821743481282\n",
      "el R2 del modelo con con variables normalizadas con MinMaxScaler y k= 7 vecinos más cercanos es  0.7424185656230706\n",
      "el R2 del modelo con con variables normalizadas con MinMaxScaler y k= 8 vecinos más cercanos es  0.7433565067069643\n",
      "el R2 del modelo con con variables normalizadas con MinMaxScaler y k= 9 vecinos más cercanos es  0.7428641022973952\n"
     ]
    }
   ],
   "source": [
    "# Realizamos nuevamente los modelos cambiando el hiperparámetro n_neighbors de 1 a 10 para ver los resultados\n",
    "\n",
    "r2_normalizado = []\n",
    "\n",
    "for k in range(2,10):\n",
    "    knn_n= KNeighborsRegressor(n_neighbors=k)\n",
    "    knn_n.fit(X_train_smm, y_train)\n",
    "    y_pred_n = knn_n.predict(X_test_smm)\n",
    "    r2_knnn = r2_score(y_test,y_pred_n)\n",
    "    r2_normalizado.append(r2_knnn)\n",
    "    print(\"el R2 del modelo con con variables normalizadas con MinMaxScaler y k=\", k, \"vecinos más cercanos es \", r2_knnn)\n",
    "\n"
   ]
  },
  {
   "cell_type": "code",
   "execution_count": 38,
   "metadata": {},
   "outputs": [
    {
     "name": "stdout",
     "output_type": "stream",
     "text": [
      "el R2 del modelo que mejor perfoma sin estandarizar es 0.25\n",
      "el R2 del modelo que mejor perfoma con los datos estandarizados con StandarScaler es 0.77\n",
      "el R2 del modelo que mejor perfoma con los datos normalizados con MinMaxScaler es 0.74\n"
     ]
    }
   ],
   "source": [
    "# Comparamos la mejor perfomance de los 3 tipos\n",
    "\n",
    "print(\"el R2 del modelo que mejor perfoma sin estandarizar es\", round(max(r2),2))\n",
    "print(\"el R2 del modelo que mejor perfoma con los datos estandarizados con StandarScaler es\", round(max(r2_estandarizado),2))\n",
    "print(\"el R2 del modelo que mejor perfoma con los datos normalizados con MinMaxScaler es\", round(max(r2_normalizado),2))\n"
   ]
  }
 ],
 "metadata": {
  "colab": {
   "name": "KNN.ipynb",
   "provenance": []
  },
  "kernelspec": {
   "display_name": "Python 3",
   "language": "python",
   "name": "python3"
  },
  "language_info": {
   "codemirror_mode": {
    "name": "ipython",
    "version": 3
   },
   "file_extension": ".py",
   "mimetype": "text/x-python",
   "name": "python",
   "nbconvert_exporter": "python",
   "pygments_lexer": "ipython3",
   "version": "3.7.10"
  }
 },
 "nbformat": 4,
 "nbformat_minor": 4
}
